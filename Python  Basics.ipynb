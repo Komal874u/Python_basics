{
  "nbformat": 4,
  "nbformat_minor": 0,
  "metadata": {
    "colab": {
      "provenance": []
    },
    "kernelspec": {
      "name": "python3",
      "display_name": "Python 3"
    },
    "language_info": {
      "name": "python"
    }
  },
  "cells": [
    {
      "cell_type": "code",
      "source": [
        "# 1.What is Python,and why is it popular?\n",
        "\"\"\"\n",
        "Python is a high-level,easy-to-learn programming language.known for its simplicity and readability. it is widely used for web development,data science,\n",
        ".artificial intelligence,machine learning,automation, and more.it is popular because:\n",
        "1.It has simple, easy-to-understand syntax.\n",
        "2.It supports multiple programming paradigms (procedural, object-oriented, functional).\n",
        "3.It has a large community and rich libraries.\n",
        "\n",
        "Example:\n",
        "print(\"Hello, World!\")\n",
        "\"\"\""
      ],
      "metadata": {
        "colab": {
          "base_uri": "https://localhost:8080/",
          "height": 72
        },
        "id": "F6aDk1GgRyYE",
        "outputId": "8543656a-1b8d-49a5-ac52-1a4e1ba81cc1"
      },
      "execution_count": null,
      "outputs": [
        {
          "output_type": "execute_result",
          "data": {
            "text/plain": [
              "'\\nPython is a high-level,easy-to-learn programming language.known for its simplicity and readability. it is widely used for web development,data science,\\n.artificial intelligence,machine learning,automation, and more.it is popular because:\\n1.It has simple, easy-to-understand syntax.\\n2.It supports multiple programming paradigms (procedural, object-oriented, functional).\\n3.It has a large community and rich libraries.\\n\\nExample:\\nprint(\"Hello, World!\")\\n'"
            ],
            "application/vnd.google.colaboratory.intrinsic+json": {
              "type": "string"
            }
          },
          "metadata": {},
          "execution_count": 1
        }
      ]
    },
    {
      "cell_type": "code",
      "source": [
        "# 2. What is an interpreter in Python?\n",
        "\"\"\"\n",
        "An interpreter is a program that reads and executes code line by line. In Python, the interpreter converts each line of code into machine language and\n",
        " uns it immediately. This allows easier debugging and faster testing of code.\n",
        " \"\"\""
      ],
      "metadata": {
        "colab": {
          "base_uri": "https://localhost:8080/",
          "height": 54
        },
        "id": "bO2qmJB_R5MU",
        "outputId": "efb0551c-4ed4-4bf7-b6d1-5c320af7ccf8"
      },
      "execution_count": null,
      "outputs": [
        {
          "output_type": "execute_result",
          "data": {
            "text/plain": [
              "'\\nAn interpreter is a program that reads and executes code line by line. In Python, the interpreter converts each line of code into machine language and \\n uns it immediately. This allows easier debugging and faster testing of code.\\n '"
            ],
            "application/vnd.google.colaboratory.intrinsic+json": {
              "type": "string"
            }
          },
          "metadata": {},
          "execution_count": 3
        }
      ]
    },
    {
      "cell_type": "code",
      "source": [
        "# 3. What are pre-defined keywords in Python?\n",
        "\"\"\"\n",
        "Keywords are reserved words in Python that have special meaning. They are used to define the syntax and structure of the language.\n",
        " Examples include:\n",
        " and,as,assert,break,class,continue,def,del,elif,else,except,finally,false,for,from,global,if,import,in.is.lambda,nonlocal,none,not,or,pass,raise,\n",
        " return,true,try,with,while,yield.\n",
        " \"\"\""
      ],
      "metadata": {
        "colab": {
          "base_uri": "https://localhost:8080/",
          "height": 72
        },
        "id": "5UGWxjaWSfGn",
        "outputId": "8c435a83-1914-49c2-b0ac-28b044b4819c"
      },
      "execution_count": null,
      "outputs": [
        {
          "output_type": "execute_result",
          "data": {
            "text/plain": [
              "'\\nKeywords are reserved words in Python that have special meaning. They are used to define the syntax and structure of the language. \\n Examples include: \\n and,as,assert,break,class,continue,def,del,elif,else,except,finally,false,for,from,global,if,import,in.is.lambda,nonlocal,none,not,or,pass,raise,\\n return,true,try,with,while,yield.\\n '"
            ],
            "application/vnd.google.colaboratory.intrinsic+json": {
              "type": "string"
            }
          },
          "metadata": {},
          "execution_count": 7
        }
      ]
    },
    {
      "cell_type": "code",
      "source": [
        "# 4. Can keywords be used as variable names?\n",
        "\"\"\"\n",
        "No, keywords cannot be used as variable names. Since they have special meaning in Python, using them as variable names will cause an error.\n",
        "\"\"\""
      ],
      "metadata": {
        "colab": {
          "base_uri": "https://localhost:8080/",
          "height": 36
        },
        "id": "e2FsUwYWUGHE",
        "outputId": "dfe9c9f9-9949-4709-af09-398ad69225dd"
      },
      "execution_count": null,
      "outputs": [
        {
          "output_type": "execute_result",
          "data": {
            "text/plain": [
              "'\\nNo, keywords cannot be used as variable names. Since they have special meaning in Python, using them as variable names will cause an error.\\n'"
            ],
            "application/vnd.google.colaboratory.intrinsic+json": {
              "type": "string"
            }
          },
          "metadata": {},
          "execution_count": 8
        }
      ]
    },
    {
      "cell_type": "code",
      "source": [
        "# 5. What is mutability in Python? Mutability means whether an object can be changed after it is created.\n",
        "\"\"\"\n",
        "Mutable objects: can be changed (e.g., list, dictionary, set).\n",
        "\n",
        "Immutable objects: cannot be changed (e.g., tuple, string, int).\n",
        "\"\"\""
      ],
      "metadata": {
        "colab": {
          "base_uri": "https://localhost:8080/",
          "height": 36
        },
        "id": "YNukaQC7Uti_",
        "outputId": "743a8265-aeff-490a-c037-981511c3c5c3"
      },
      "execution_count": null,
      "outputs": [
        {
          "output_type": "execute_result",
          "data": {
            "text/plain": [
              "'\\nMutable objects: can be changed (e.g., list, dictionary, set).\\n\\nImmutable objects: cannot be changed (e.g., tuple, string, int).\\n'"
            ],
            "application/vnd.google.colaboratory.intrinsic+json": {
              "type": "string"
            }
          },
          "metadata": {},
          "execution_count": 9
        }
      ]
    },
    {
      "cell_type": "code",
      "source": [
        "# 6. Why are lists mutable, but tuples are immutable?\n",
        "\"\"\"\n",
        "Lists are designed to store data that might need to change during program execution, so they are mutable. Tuples are designed for fixed data and are\n",
        "immutable to ensure safety and faster access.\n",
        "\"\"\"\n"
      ],
      "metadata": {
        "colab": {
          "base_uri": "https://localhost:8080/",
          "height": 54
        },
        "id": "8r1qAOETU5Mf",
        "outputId": "7dc8396a-d21f-42ae-cfd6-8dbbd8c5a4bd"
      },
      "execution_count": null,
      "outputs": [
        {
          "output_type": "execute_result",
          "data": {
            "text/plain": [
              "'\\nLists are designed to store data that might need to change during program execution, so they are mutable. Tuples are designed for fixed data and are \\nimmutable to ensure safety and faster access.\\n'"
            ],
            "application/vnd.google.colaboratory.intrinsic+json": {
              "type": "string"
            }
          },
          "metadata": {},
          "execution_count": 10
        }
      ]
    },
    {
      "cell_type": "code",
      "source": [
        "# 7. What is the difference between \"==\" and \"is\" operators in Python?\n",
        "\"\"\"\n",
        "== checks if the values of two variables are equal.\n",
        "\n",
        "is checks if two variables point to the same memory location (i.e., are the same object).\n",
        "\"\"\""
      ],
      "metadata": {
        "colab": {
          "base_uri": "https://localhost:8080/",
          "height": 36
        },
        "id": "wen7gIyvXDI7",
        "outputId": "ff9ed880-2ee4-4f4c-bd6a-d27fd1723a5c"
      },
      "execution_count": null,
      "outputs": [
        {
          "output_type": "execute_result",
          "data": {
            "text/plain": [
              "'\\n== checks if the values of two variables are equal.\\n\\nis checks if two variables point to the same memory location (i.e., are the same object).\\n'"
            ],
            "application/vnd.google.colaboratory.intrinsic+json": {
              "type": "string"
            }
          },
          "metadata": {},
          "execution_count": 11
        }
      ]
    },
    {
      "cell_type": "code",
      "source": [
        "# 8.What are logical operators in Python? Logical operators are used to combine conditional statements:\n",
        "\"\"\"\n",
        "and: Returns True if both statements are true.\n",
        "\n",
        "or: Returns True if at least one statement is true.\n",
        "\n",
        "not: Reverses the result (True becomes False, and vice versa).\n",
        "\"\"\""
      ],
      "metadata": {
        "colab": {
          "base_uri": "https://localhost:8080/",
          "height": 54
        },
        "id": "N68G0vGBXbJE",
        "outputId": "2d8d360f-1f91-47bc-d7cf-8de086924d24"
      },
      "execution_count": null,
      "outputs": [
        {
          "output_type": "execute_result",
          "data": {
            "text/plain": [
              "'\\nand: Returns True if both statements are true.\\n\\nor: Returns True if at least one statement is true.\\n\\nnot: Reverses the result (True becomes False, and vice versa).\\n'"
            ],
            "application/vnd.google.colaboratory.intrinsic+json": {
              "type": "string"
            }
          },
          "metadata": {},
          "execution_count": 12
        }
      ]
    },
    {
      "cell_type": "code",
      "source": [
        "# 9. What is type casting in Python? Type casting means converting one data type to another.\n",
        "\"\"\"\n",
        "Examples:\n",
        "\n",
        "int(\"5\") converts string \"5\" to integer 5.\n",
        "\n",
        "float(3) converts integer 3 to float 3.0.\n",
        "\"\"\"\n"
      ],
      "metadata": {
        "colab": {
          "base_uri": "https://localhost:8080/",
          "height": 36
        },
        "id": "hYoyPDnrXogp",
        "outputId": "43a96845-6b2c-4e57-d11d-12e4baadb049"
      },
      "execution_count": null,
      "outputs": [
        {
          "output_type": "execute_result",
          "data": {
            "text/plain": [
              "'\\nExamples:\\n\\nint(\"5\") converts string \"5\" to integer 5.\\n\\nfloat(3) converts integer 3 to float 3.0.\\n'"
            ],
            "application/vnd.google.colaboratory.intrinsic+json": {
              "type": "string"
            }
          },
          "metadata": {},
          "execution_count": 13
        }
      ]
    },
    {
      "cell_type": "code",
      "source": [
        "# 10. What is the difference between implicit and explicit type casting?\n",
        "\"\"\"\n",
        "| Point             | Implicit           | Explicit            |\n",
        "| ----------------- | ------------------ | ------------------- |\n",
        "| Who does it?      | Compiler           | Programmer          |\n",
        "| Code writing      | No need            | You must write it   |\n",
        "| Risk of data loss | Low                | Possible            |\n",
        "| Conversion type   | Safe (small → big) | Risky (big → small) |\n",
        "\n",
        "\"\"\""
      ],
      "metadata": {
        "colab": {
          "base_uri": "https://localhost:8080/",
          "height": 72
        },
        "id": "mxYHw4ynYn52",
        "outputId": "d2ff623b-638f-4fd8-c8cf-057b4d661742"
      },
      "execution_count": null,
      "outputs": [
        {
          "output_type": "execute_result",
          "data": {
            "text/plain": [
              "'\\n| Point             | Implicit           | Explicit            |\\n| ----------------- | ------------------ | ------------------- |\\n| Who does it?      | Compiler           | Programmer          |\\n| Code writing      | No need            | You must write it   |\\n| Risk of data loss | Low                | Possible            |\\n| Conversion type   | Safe (small → big) | Risky (big → small) |\\n\\n'"
            ],
            "application/vnd.google.colaboratory.intrinsic+json": {
              "type": "string"
            }
          },
          "metadata": {},
          "execution_count": 36
        }
      ]
    },
    {
      "cell_type": "code",
      "source": [
        "# 11. What is the purpose of conditional statements in Python?\n",
        "\"\"\"\n",
        "Conditional statements are used to perform different actions based on different conditions. They help a program make decisions. For example,\n",
        " you can use them to:\n",
        "1.Check if a number is positive or negative.\n",
        "\n",
        "2.Give different outputs based on user input.\n",
        "\n",
        "3.Run a block of code only if a certain condition is true. In Python, we use if, elif, and else to write conditional statements.\n",
        "\"\"\""
      ],
      "metadata": {
        "colab": {
          "base_uri": "https://localhost:8080/",
          "height": 72
        },
        "id": "MzR4MLqwYyPw",
        "outputId": "656a4a7e-70b3-4ce6-cede-0fc6e274c156"
      },
      "execution_count": null,
      "outputs": [
        {
          "output_type": "execute_result",
          "data": {
            "text/plain": [
              "' \\nConditional statements are used to perform different actions based on different conditions. They help a program make decisions. For example,\\n you can use them to:\\n1.Check if a number is positive or negative.\\n\\n2.Give different outputs based on user input.\\n\\n3.Run a block of code only if a certain condition is true. In Python, we use if, elif, and else to write conditional statements.\\n'"
            ],
            "application/vnd.google.colaboratory.intrinsic+json": {
              "type": "string"
            }
          },
          "metadata": {},
          "execution_count": 15
        }
      ]
    },
    {
      "cell_type": "code",
      "source": [
        "# 12.How does the elif statement work? elif stands for \"else if\". It is used to check multiple conditions one after another.\n",
        "\"\"\"\n",
        "First, Python checks the if condition.\n",
        "\n",
        "If that is false, it checks the elif condition.\n",
        "\n",
        "If none are true, it goes to the else block.\n",
        "Example:\n",
        "\n",
        "x = 10\n",
        "if x > 20:\n",
        "    print(\"Greater than 20\")\n",
        "elif x == 10:\n",
        "    print(\"Equal to 10\")\n",
        "else:\n",
        "    print(\"Other value\")\n",
        "\n",
        "This will print: Equal to 10.\n",
        "\"\"\""
      ],
      "metadata": {
        "colab": {
          "base_uri": "https://localhost:8080/",
          "height": 54
        },
        "id": "xdsl725lZley",
        "outputId": "9936ce16-cfc4-4699-fc65-afea5deeafa7"
      },
      "execution_count": null,
      "outputs": [
        {
          "output_type": "execute_result",
          "data": {
            "text/plain": [
              "'\\nFirst, Python checks the if condition.\\n\\nIf that is false, it checks the elif condition.\\n\\nIf none are true, it goes to the else block.\\nExample:\\n\\nx = 10\\nif x > 20:\\n    print(\"Greater than 20\")\\nelif x == 10:\\n    print(\"Equal to 10\")\\nelse:\\n    print(\"Other value\")\\n\\nThis will print: Equal to 10.\\n'"
            ],
            "application/vnd.google.colaboratory.intrinsic+json": {
              "type": "string"
            }
          },
          "metadata": {},
          "execution_count": 16
        }
      ]
    },
    {
      "cell_type": "code",
      "source": [
        "# 13. What is the difference between for and while loops?\n",
        "\"\"\"\n",
        "1.for loop is used when you know how many times you want to run the loop. It works with sequences like lists, tuples, or a range of numbers.\n",
        "Example:\n",
        "for i in range(5):\n",
        "    print(i)\n",
        "\n",
        "2.while loop is used when you do not know how many times you want to run the loop. It keeps running as long as the condition is true.\n",
        "Example:\n",
        "x = 0\n",
        "while x < 5:\n",
        "    print(x)\n",
        "    x += 1\n",
        "\"\"\""
      ],
      "metadata": {
        "colab": {
          "base_uri": "https://localhost:8080/",
          "height": 72
        },
        "id": "ZmfzQl6hZ6hY",
        "outputId": "827035f1-c980-4323-bb03-8f8a5d6ced55"
      },
      "execution_count": null,
      "outputs": [
        {
          "output_type": "execute_result",
          "data": {
            "text/plain": [
              "'\\n1.for loop is used when you know how many times you want to run the loop. It works with sequences like lists, tuples, or a range of numbers. \\nExample:\\nfor i in range(5):\\n    print(i)\\n\\n2.while loop is used when you do not know how many times you want to run the loop. It keeps running as long as the condition is true. \\nExample:\\nx = 0\\nwhile x < 5:\\n    print(x)\\n    x += 1\\n'"
            ],
            "application/vnd.google.colaboratory.intrinsic+json": {
              "type": "string"
            }
          },
          "metadata": {},
          "execution_count": 17
        }
      ]
    },
    {
      "cell_type": "code",
      "source": [
        "# 14.Describe a scenario where a while loop is more suitable than a for loop. A while loop is better when the number of times the loop should run is not known beforehand.\n",
        "\"\"\"\n",
        "Example scenario: Asking a user to input the correct password. You don't know how many times the user will try.\n",
        "\n",
        "password = \"\"\n",
        "while password != \"admin123\":\n",
        "    password = input(\"Enter password: \")\n",
        "print(\"Access granted\")\n",
        "\n",
        "Here, the loop continues until the correct password is entered. A for loop is not suitable here because we don’t know how many attempts the user will take.\n",
        "\"\"\""
      ],
      "metadata": {
        "colab": {
          "base_uri": "https://localhost:8080/",
          "height": 72
        },
        "id": "qPA1vYZ9aP7k",
        "outputId": "4da51ddd-c9ee-436e-e45d-f1e3eed1a9b7"
      },
      "execution_count": null,
      "outputs": [
        {
          "output_type": "execute_result",
          "data": {
            "text/plain": [
              "'\\nExample scenario: Asking a user to input the correct password. You don\\'t know how many times the user will try.\\n\\npassword = \"\"\\nwhile password != \"admin123\":\\n    password = input(\"Enter password: \")\\nprint(\"Access granted\")\\n\\nHere, the loop continues until the correct password is entered. A for loop is not suitable here because we don’t know how many attempts the\\xa0user\\xa0will\\xa0take.\\n'"
            ],
            "application/vnd.google.colaboratory.intrinsic+json": {
              "type": "string"
            }
          },
          "metadata": {},
          "execution_count": 18
        }
      ]
    },
    {
      "cell_type": "markdown",
      "source": [
        "# Practical questions"
      ],
      "metadata": {
        "id": "H-y10YwpanPg"
      }
    },
    {
      "cell_type": "code",
      "source": [
        "# 1.Write a python program to print the hello world.\n",
        "print(\"Hello, World!\")"
      ],
      "metadata": {
        "colab": {
          "base_uri": "https://localhost:8080/"
        },
        "id": "q-VjR-X-b6LA",
        "outputId": "b5a8b6c7-7001-4faa-92b3-d0081b3de133"
      },
      "execution_count": null,
      "outputs": [
        {
          "output_type": "stream",
          "name": "stdout",
          "text": [
            "Hello, World!\n"
          ]
        }
      ]
    },
    {
      "cell_type": "code",
      "source": [
        "# 2.Write a python program that displays your name and age.\n",
        "a=\"Komal Sanjay Ghadge\"\n",
        "b=\"21\"\n",
        "print(\"My name is:\",a);\n",
        "print(\"My age is:\",b);\n"
      ],
      "metadata": {
        "colab": {
          "base_uri": "https://localhost:8080/"
        },
        "id": "f9Mv35dbaxDM",
        "outputId": "2474462b-e203-45ad-849b-fd90298d8376"
      },
      "execution_count": null,
      "outputs": [
        {
          "output_type": "stream",
          "name": "stdout",
          "text": [
            "My name is: Komal Sanjay Ghadge\n",
            "My age is: 21\n"
          ]
        }
      ]
    },
    {
      "cell_type": "code",
      "source": [
        "# 3.Write a code to print all the pre-defined keywords in python using the keyword library.\n",
        "import keyword\n",
        "print(keyword.kwlist)\n"
      ],
      "metadata": {
        "colab": {
          "base_uri": "https://localhost:8080/"
        },
        "id": "--gcF05TcTc7",
        "outputId": "48bc59f7-5f12-480f-8100-6c9c5a0ab23d"
      },
      "execution_count": null,
      "outputs": [
        {
          "output_type": "stream",
          "name": "stdout",
          "text": [
            "['False', 'None', 'True', 'and', 'as', 'assert', 'async', 'await', 'break', 'class', 'continue', 'def', 'del', 'elif', 'else', 'except', 'finally', 'for', 'from', 'global', 'if', 'import', 'in', 'is', 'lambda', 'nonlocal', 'not', 'or', 'pass', 'raise', 'return', 'try', 'while', 'with', 'yield']\n"
          ]
        }
      ]
    },
    {
      "cell_type": "code",
      "source": [
        "# 4.Write a program that checks if a given word is a python keyword.\n",
        "import keyword\n",
        "print(keyword.kwlist)\n",
        "word=input(\"Enter a word:\")\n",
        "if word in keyword.kwlist:\n",
        "    print(\"This word is in the keyword list\");\n",
        "else:\n",
        "    print(\"This word is  not in the keyword list\");\n"
      ],
      "metadata": {
        "colab": {
          "base_uri": "https://localhost:8080/"
        },
        "id": "uxGjO7OscxHx",
        "outputId": "ffec89ca-0ef8-4057-8ac0-e6da9e8891f4"
      },
      "execution_count": null,
      "outputs": [
        {
          "output_type": "stream",
          "name": "stdout",
          "text": [
            "['False', 'None', 'True', 'and', 'as', 'assert', 'async', 'await', 'break', 'class', 'continue', 'def', 'del', 'elif', 'else', 'except', 'finally', 'for', 'from', 'global', 'if', 'import', 'in', 'is', 'lambda', 'nonlocal', 'not', 'or', 'pass', 'raise', 'return', 'try', 'while', 'with', 'yield']\n",
            "Enter a word:if\n",
            "This word is in the keyword list\n"
          ]
        }
      ]
    },
    {
      "cell_type": "code",
      "source": [
        "# 5.Create a list and tuple in Python, and demostrate how attempting to change an element works differently for each\n",
        "#demostrate of changing element in list\n",
        "list=[10,20,30,40,50,60]\n",
        "print(\"Original list\",list)\n",
        "list[1]=15\n",
        "print(\"Updated list:\",list);\n",
        "#demostrate of changing element in tuple\n",
        "tuple=(10,20,30,40,50,60)\n",
        "print(\"Original tuple:\",tuple)\n",
        "tuple[1]=15\n",
        "print(\"Updated tuple:\",tuple)\n",
        "#NOTE :tuple does not support the item assigmemt or changing element.(Tuple is immutable)\n"
      ],
      "metadata": {
        "colab": {
          "base_uri": "https://localhost:8080/",
          "height": 273
        },
        "id": "MH8L0sx1cxKd",
        "outputId": "830ef6c4-d669-4767-c52b-78648812592b"
      },
      "execution_count": null,
      "outputs": [
        {
          "output_type": "stream",
          "name": "stdout",
          "text": [
            "Original list [10, 20, 30, 40, 50, 60]\n",
            "Updated list: [10, 15, 30, 40, 50, 60]\n",
            "Original tuple: (10, 20, 30, 40, 50, 60)\n"
          ]
        },
        {
          "output_type": "error",
          "ename": "TypeError",
          "evalue": "'tuple' object does not support item assignment",
          "traceback": [
            "\u001b[0;31m---------------------------------------------------------------------------\u001b[0m",
            "\u001b[0;31mTypeError\u001b[0m                                 Traceback (most recent call last)",
            "\u001b[0;32m<ipython-input-1-7990527012e1>\u001b[0m in \u001b[0;36m<cell line: 0>\u001b[0;34m()\u001b[0m\n\u001b[1;32m      8\u001b[0m \u001b[0mtuple\u001b[0m\u001b[0;34m=\u001b[0m\u001b[0;34m(\u001b[0m\u001b[0;36m10\u001b[0m\u001b[0;34m,\u001b[0m\u001b[0;36m20\u001b[0m\u001b[0;34m,\u001b[0m\u001b[0;36m30\u001b[0m\u001b[0;34m,\u001b[0m\u001b[0;36m40\u001b[0m\u001b[0;34m,\u001b[0m\u001b[0;36m50\u001b[0m\u001b[0;34m,\u001b[0m\u001b[0;36m60\u001b[0m\u001b[0;34m)\u001b[0m\u001b[0;34m\u001b[0m\u001b[0;34m\u001b[0m\u001b[0m\n\u001b[1;32m      9\u001b[0m \u001b[0mprint\u001b[0m\u001b[0;34m(\u001b[0m\u001b[0;34m\"Original tuple:\"\u001b[0m\u001b[0;34m,\u001b[0m\u001b[0mtuple\u001b[0m\u001b[0;34m)\u001b[0m\u001b[0;34m\u001b[0m\u001b[0;34m\u001b[0m\u001b[0m\n\u001b[0;32m---> 10\u001b[0;31m \u001b[0mtuple\u001b[0m\u001b[0;34m[\u001b[0m\u001b[0;36m1\u001b[0m\u001b[0;34m]\u001b[0m\u001b[0;34m=\u001b[0m\u001b[0;36m15\u001b[0m\u001b[0;34m\u001b[0m\u001b[0;34m\u001b[0m\u001b[0m\n\u001b[0m\u001b[1;32m     11\u001b[0m \u001b[0mprint\u001b[0m\u001b[0;34m(\u001b[0m\u001b[0;34m\"Updated tuple:\"\u001b[0m\u001b[0;34m,\u001b[0m\u001b[0mtuple\u001b[0m\u001b[0;34m)\u001b[0m\u001b[0;34m\u001b[0m\u001b[0;34m\u001b[0m\u001b[0m\n\u001b[1;32m     12\u001b[0m \u001b[0;31m#NOTE :tuple does not support the item assigmemt or changing element.(Tuple is immutable)\u001b[0m\u001b[0;34m\u001b[0m\u001b[0;34m\u001b[0m\u001b[0m\n",
            "\u001b[0;31mTypeError\u001b[0m: 'tuple' object does not support item assignment"
          ]
        }
      ]
    },
    {
      "cell_type": "code",
      "source": [
        "# 6.Write a function to demostrate the behaviour of mutable and immutable arguments.\n",
        "def change_values(num,my_list):\n",
        "    num=num+1\n",
        "#try to chnage number(immutable)\n",
        "    my_list.append(4)\n",
        "#chnage list(mutable)\n",
        "    print(\"Inside:\",num,my_list)\n",
        "a=5\n",
        "b=[1,2,3]\n",
        "change_values(a,b)\n",
        "print(\"Outside:\",a,b)\n"
      ],
      "metadata": {
        "colab": {
          "base_uri": "https://localhost:8080/"
        },
        "id": "lfJvOwfecxMe",
        "outputId": "a1a89a74-fa25-4c26-e1cd-a6fec3defffa"
      },
      "execution_count": null,
      "outputs": [
        {
          "output_type": "stream",
          "name": "stdout",
          "text": [
            "Inside: 6 [1, 2, 3, 4]\n",
            "Outside: 5 [1, 2, 3, 4]\n"
          ]
        }
      ]
    },
    {
      "cell_type": "code",
      "source": [
        "# 7.Write a program that performs basic arithmetic operation on two user-input numbers.\n",
        "x=int(input(\"Enter a first number:\"))\n",
        "y=int(input(\"Enter a second number:\"))\n",
        "#Addition operator\n",
        "print(x+y)\n",
        "#Substraction operator\n",
        "print(x-y)\n",
        "#multiplication operator\n",
        "print(x*y)\n",
        "#division operator\n",
        "print(x/y)\n",
        "#floor operatior:return questiont\n",
        "print(x//y)\n",
        "#modulo operator:return remainder\n",
        "print(x%y)\n",
        "#power operator\n",
        "print(x**y)\n"
      ],
      "metadata": {
        "colab": {
          "base_uri": "https://localhost:8080/"
        },
        "id": "X1IMRs2ncxO6",
        "outputId": "9485aa59-aff8-423b-984b-bf4f620bfc17"
      },
      "execution_count": null,
      "outputs": [
        {
          "output_type": "stream",
          "name": "stdout",
          "text": [
            "Enter a first number:11\n",
            "Enter a second number:2\n",
            "13\n",
            "9\n",
            "22\n",
            "5.5\n",
            "5\n",
            "1\n",
            "121\n"
          ]
        }
      ]
    },
    {
      "cell_type": "code",
      "source": [
        "# 8.Write a program to demostrate the use of logical operators.\n",
        "a=10\n",
        "b=5\n",
        "#And operator\n",
        "if a>5 and b>2:\n",
        "   print(\"AND:both condition are true\")\n",
        "#OR operator\n",
        "if a>15 or b<10:\n",
        "   print(\"OR:at least one condition is true\")\n",
        "#NOT operator\n",
        "if not(a<b):\n",
        "   print(\"Not: a is not less than b\")\n"
      ],
      "metadata": {
        "colab": {
          "base_uri": "https://localhost:8080/"
        },
        "id": "5Od6QBKFcxQv",
        "outputId": "dce90f83-4629-4f14-f8fc-8f8eb052085c"
      },
      "execution_count": 1,
      "outputs": [
        {
          "output_type": "stream",
          "name": "stdout",
          "text": [
            "AND:both condition are true\n",
            "OR:at least one condition is true\n",
            "Not: a is not less than b\n"
          ]
        }
      ]
    },
    {
      "cell_type": "code",
      "source": [
        "# 9.Write a Python program to convert user input from string to integer,float,and boolean types.\n",
        "data=input(\"Enter a values:\")\n",
        "values=data.split(\",\")\n",
        "print(\"Integer:\",int(values[0]))\n",
        "print(\"Float:\",float(values[1]))\n",
        "\n",
        "print(\"Boolean:\",values[2]==\"True\")"
      ],
      "metadata": {
        "colab": {
          "base_uri": "https://localhost:8080/"
        },
        "id": "kIeZdZwtcxSv",
        "outputId": "0b29c54c-cb1b-47e3-aa07-a1d28e06735a"
      },
      "execution_count": null,
      "outputs": [
        {
          "output_type": "stream",
          "name": "stdout",
          "text": [
            "Enter a values:10,4.5,False\n",
            "Integer: 10\n",
            "Float: 4.5\n",
            "Boolean: False\n"
          ]
        }
      ]
    },
    {
      "cell_type": "code",
      "source": [
        "# 10.Write code to demostrate type casting with list elements.\n",
        "#list of numbers as strings\n",
        "old_list=[\"2\",\"4\",\"5\"]\n",
        "#chnage each syrings to numbers(int)\n",
        "new_list=[]\n",
        "for item in old_list:\n",
        "    new_list.append(int(item))\n",
        "#print both numbers\n",
        "print(\"old_list:\",old_list)\n",
        "print(\"new_list:\",new_list)\n"
      ],
      "metadata": {
        "colab": {
          "base_uri": "https://localhost:8080/"
        },
        "id": "VIXHXOBgcxUt",
        "outputId": "c57559c8-bea0-41ca-d4eb-9c2c0d21b2f8"
      },
      "execution_count": null,
      "outputs": [
        {
          "output_type": "stream",
          "name": "stdout",
          "text": [
            "old_list: ['2', '4', '5']\n",
            "new_list: [2, 4, 5]\n"
          ]
        }
      ]
    },
    {
      "cell_type": "code",
      "source": [
        "# 11.Write a program that checks if a number is positive,negative, or zero.\n",
        "number=int(input(\"Enter a number:\"))\n",
        "if number>0:\n",
        "    print(\"Number is positive\")\n",
        "elif number<0:\n",
        "    print(\"Number is negative\")\n",
        "else:\n",
        "    print(\"Number is zero\")"
      ],
      "metadata": {
        "colab": {
          "base_uri": "https://localhost:8080/"
        },
        "id": "J7PaQ31ccxXJ",
        "outputId": "0dd915c2-88c8-471d-8976-0aa9a613cf0d"
      },
      "execution_count": null,
      "outputs": [
        {
          "output_type": "stream",
          "name": "stdout",
          "text": [
            "Enter a number:5\n",
            "Number is positive\n"
          ]
        }
      ]
    },
    {
      "cell_type": "code",
      "source": [
        "# 12.Write a for loop to print numbers from 1 to 10.\n",
        "nums=[1,2,3,4,5,6,7,8,9,10]\n",
        "for values in nums:\n",
        "    print(values)"
      ],
      "metadata": {
        "colab": {
          "base_uri": "https://localhost:8080/"
        },
        "id": "rc8ChTYKcxal",
        "outputId": "823e3df6-867d-4780-b4bf-50c4533cf47a"
      },
      "execution_count": null,
      "outputs": [
        {
          "output_type": "stream",
          "name": "stdout",
          "text": [
            "1\n",
            "2\n",
            "3\n",
            "4\n",
            "5\n",
            "6\n",
            "7\n",
            "8\n",
            "9\n",
            "10\n"
          ]
        }
      ]
    },
    {
      "cell_type": "code",
      "source": [
        "# 13.Write a python program to find the sum of all even numbers between 1 and 50\n",
        "sum=0\n",
        "for i in range(1,51):\n",
        "    if i % 2==0:\n",
        "        sum+=i\n",
        "print(\"Sum of even numbers from 1 to 50 is:\",sum)"
      ],
      "metadata": {
        "colab": {
          "base_uri": "https://localhost:8080/"
        },
        "id": "dFISrlKCfW36",
        "outputId": "844fcd56-825f-4147-9b93-fbec6bdb6562"
      },
      "execution_count": null,
      "outputs": [
        {
          "output_type": "stream",
          "name": "stdout",
          "text": [
            "Sum of even numbers from 1 to 50 is: 650\n"
          ]
        }
      ]
    },
    {
      "cell_type": "code",
      "source": [
        "# 14.Write a program to reverse a string using a while loop.\n",
        "string ='hello'\n",
        "reversed_str=\"\"\n",
        "i=len(string)-1\n",
        "while i>=0:\n",
        "    reversed_str+=string[i]\n",
        "    i-=1\n",
        "    print(\"Reversed string:\",reversed_str)"
      ],
      "metadata": {
        "colab": {
          "base_uri": "https://localhost:8080/"
        },
        "id": "XBIXUl4HfW6h",
        "outputId": "f0e14c68-c8ec-40a7-a4c9-217d8513ff2a"
      },
      "execution_count": null,
      "outputs": [
        {
          "output_type": "stream",
          "name": "stdout",
          "text": [
            "Reversed string: o\n",
            "Reversed string: ol\n",
            "Reversed string: oll\n",
            "Reversed string: olle\n",
            "Reversed string: olleh\n"
          ]
        }
      ]
    },
    {
      "cell_type": "code",
      "source": [
        "# 15.Write a python program to calculate the factorial of a number provided by the user using a while loop.\n",
        "num=int(input(\"Enter a number:\"))\n",
        "fact=1;\n",
        "while num>0:\n",
        "    fact=fact*num\n",
        "    num=num-1\n",
        "print(\"Factorial numbers:\",fact)"
      ],
      "metadata": {
        "colab": {
          "base_uri": "https://localhost:8080/"
        },
        "id": "tLHwocQ8fW-A",
        "outputId": "6533e598-db79-41e5-bfae-98a30add2fe7"
      },
      "execution_count": null,
      "outputs": [
        {
          "output_type": "stream",
          "name": "stdout",
          "text": [
            "Enter a number:6\n",
            "Factorial numbers: 720\n"
          ]
        }
      ]
    }
  ]
}