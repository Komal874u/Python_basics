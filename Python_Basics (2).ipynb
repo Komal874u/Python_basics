{
  "nbformat": 4,
  "nbformat_minor": 0,
  "metadata": {
    "colab": {
      "provenance": []
    },
    "kernelspec": {
      "name": "python3",
      "display_name": "Python 3"
    },
    "language_info": {
      "name": "python"
    }
  },
  "cells": [
    {
      "cell_type": "code",
      "source": [
        "# 1.What is Python,and why is it popular?\n",
        "\"\"\"\n",
        "Python is a high-level,easy-to-learn programming language.known for its simplicity and readability. it is widely used for web development,data science,\n",
        ".artificial intelligence,machine learning,automation, and more.it is popular because:\n",
        "1.It has simple, easy-to-understand syntax.\n",
        "2.It supports multiple programming paradigms (procedural, object-oriented, functional).\n",
        "3.It has a large community and rich libraries.\n",
        "\n",
        "Example:\n",
        "print(\"Hello, World!\")\n",
        "\"\"\""
      ],
      "metadata": {
        "colab": {
          "base_uri": "https://localhost:8080/",
          "height": 72
        },
        "id": "F6aDk1GgRyYE",
        "outputId": "db2c7df7-7a43-461d-8a96-440094524b3f"
      },
      "execution_count": null,
      "outputs": [
        {
          "output_type": "execute_result",
          "data": {
            "text/plain": [
              "'\\nPython is a high-level,easy-to-learn programming language.known for its simplicity and readability. it is widely used for web development,data science,\\n.artificial intelligence,machine learning,automation, and more.it is popular because:\\n1.It has simple, easy-to-understand syntax.\\n2.It supports multiple programming paradigms (procedural, object-oriented, functional).\\n3.It has a large community and rich libraries.\\n\\nExample:\\nprint(\"Hello, World!\")\\n'"
            ],
            "application/vnd.google.colaboratory.intrinsic+json": {
              "type": "string"
            }
          },
          "metadata": {},
          "execution_count": 4
        }
      ]
    },
    {
      "cell_type": "code",
      "source": [
        "# 2. What is an interpreter in Python?\n",
        "\"\"\"\n",
        "An interpreter is a program that reads and executes code line by line. In Python, the interpreter converts each line of code into machine language and\n",
        " uns it immediately. This allows easier debugging and faster testing of code.\n",
        " \"\"\""
      ],
      "metadata": {
        "colab": {
          "base_uri": "https://localhost:8080/",
          "height": 54
        },
        "id": "bO2qmJB_R5MU",
        "outputId": "5004ff2b-0c6c-4c46-df9f-666731bd69d1"
      },
      "execution_count": null,
      "outputs": [
        {
          "output_type": "execute_result",
          "data": {
            "text/plain": [
              "'\\nAn interpreter is a program that reads and executes code line by line. In Python, the interpreter converts each line of code into machine language and\\n uns it immediately. This allows easier debugging and faster testing of code.\\n '"
            ],
            "application/vnd.google.colaboratory.intrinsic+json": {
              "type": "string"
            }
          },
          "metadata": {},
          "execution_count": 5
        }
      ]
    },
    {
      "cell_type": "code",
      "source": [
        "# 3. What are pre-defined keywords in Python?\n",
        "\"\"\"\n",
        "Keywords are reserved words in Python that have special meaning. They are used to define the syntax and structure of the language.\n",
        " Examples include:\n",
        " and,as,assert,break,class,continue,def,del,elif,else,except,finally,false,for,from,global,if,import,in.is.lambda,nonlocal,none,not,or,pass,raise,\n",
        " return,true,try,with,while,yield.\n",
        " \"\"\""
      ],
      "metadata": {
        "colab": {
          "base_uri": "https://localhost:8080/",
          "height": 72
        },
        "id": "5UGWxjaWSfGn",
        "outputId": "dabbab16-643c-4e5a-d98f-0db02a4e2c74"
      },
      "execution_count": null,
      "outputs": [
        {
          "output_type": "execute_result",
          "data": {
            "text/plain": [
              "'\\nKeywords are reserved words in Python that have special meaning. They are used to define the syntax and structure of the language.\\n Examples include:\\n and,as,assert,break,class,continue,def,del,elif,else,except,finally,false,for,from,global,if,import,in.is.lambda,nonlocal,none,not,or,pass,raise,\\n return,true,try,with,while,yield.\\n '"
            ],
            "application/vnd.google.colaboratory.intrinsic+json": {
              "type": "string"
            }
          },
          "metadata": {},
          "execution_count": 6
        }
      ]
    },
    {
      "cell_type": "code",
      "source": [
        "# 4. Can keywords be used as variable names?\n",
        "\"\"\"\n",
        "No, keywords cannot be used as variable names. Since they have special meaning in Python, using them as variable names will cause an error.\n",
        "\"\"\""
      ],
      "metadata": {
        "colab": {
          "base_uri": "https://localhost:8080/",
          "height": 36
        },
        "id": "e2FsUwYWUGHE",
        "outputId": "e7983105-0114-4366-c9e4-e8e3f99dfaab"
      },
      "execution_count": null,
      "outputs": [
        {
          "output_type": "execute_result",
          "data": {
            "text/plain": [
              "'\\nNo, keywords cannot be used as variable names. Since they have special meaning in Python, using them as variable names will cause an error.\\n'"
            ],
            "application/vnd.google.colaboratory.intrinsic+json": {
              "type": "string"
            }
          },
          "metadata": {},
          "execution_count": 7
        }
      ]
    },
    {
      "cell_type": "code",
      "source": [
        "# 5. What is mutability in Python? Mutability means whether an object can be changed after it is created.\n",
        "\"\"\"\n",
        "Mutable objects: can be changed (e.g., list, dictionary, set).\n",
        "\n",
        "Immutable objects: cannot be changed (e.g., tuple, string, int).\n",
        "\"\"\""
      ],
      "metadata": {
        "colab": {
          "base_uri": "https://localhost:8080/",
          "height": 36
        },
        "id": "YNukaQC7Uti_",
        "outputId": "af7b1b9f-7014-4f2c-ff25-d93d55bc9388"
      },
      "execution_count": null,
      "outputs": [
        {
          "output_type": "execute_result",
          "data": {
            "text/plain": [
              "'\\nMutable objects: can be changed (e.g., list, dictionary, set).\\n\\nImmutable objects: cannot be changed (e.g., tuple, string, int).\\n'"
            ],
            "application/vnd.google.colaboratory.intrinsic+json": {
              "type": "string"
            }
          },
          "metadata": {},
          "execution_count": 8
        }
      ]
    },
    {
      "cell_type": "code",
      "source": [
        "# 6. Why are lists mutable, but tuples are immutable?\n",
        "\"\"\"\n",
        "Lists are designed to store data that might need to change during program execution, so they are mutable. Tuples are designed for fixed data and are\n",
        "immutable to ensure safety and faster access.\n",
        "\"\"\"\n"
      ],
      "metadata": {
        "colab": {
          "base_uri": "https://localhost:8080/",
          "height": 54
        },
        "id": "8r1qAOETU5Mf",
        "outputId": "de8f64be-c796-42b2-e9f2-b57aba795e23"
      },
      "execution_count": null,
      "outputs": [
        {
          "output_type": "execute_result",
          "data": {
            "text/plain": [
              "'\\nLists are designed to store data that might need to change during program execution, so they are mutable. Tuples are designed for fixed data and are\\nimmutable to ensure safety and faster access.\\n'"
            ],
            "application/vnd.google.colaboratory.intrinsic+json": {
              "type": "string"
            }
          },
          "metadata": {},
          "execution_count": 9
        }
      ]
    },
    {
      "cell_type": "code",
      "source": [
        "# 7. What is the difference between \"==\" and \"is\" operators in Python?\n",
        "\"\"\"\n",
        "== checks if the values of two variables are equal.\n",
        "\n",
        "is checks if two variables point to the same memory location (i.e., are the same object).\n",
        "\"\"\""
      ],
      "metadata": {
        "colab": {
          "base_uri": "https://localhost:8080/",
          "height": 36
        },
        "id": "wen7gIyvXDI7",
        "outputId": "495b241f-fbb3-4b19-9242-19d190fa43aa"
      },
      "execution_count": null,
      "outputs": [
        {
          "output_type": "execute_result",
          "data": {
            "text/plain": [
              "'\\n== checks if the values of two variables are equal.\\n\\nis checks if two variables point to the same memory location (i.e., are the same object).\\n'"
            ],
            "application/vnd.google.colaboratory.intrinsic+json": {
              "type": "string"
            }
          },
          "metadata": {},
          "execution_count": 10
        }
      ]
    },
    {
      "cell_type": "code",
      "source": [
        "# 8.What are logical operators in Python? Logical operators are used to combine conditional statements:\n",
        "\"\"\"\n",
        "and: Returns True if both statements are true.\n",
        "\n",
        "or: Returns True if at least one statement is true.\n",
        "\n",
        "not: Reverses the result (True becomes False, and vice versa).\n",
        "\"\"\""
      ],
      "metadata": {
        "colab": {
          "base_uri": "https://localhost:8080/",
          "height": 54
        },
        "id": "N68G0vGBXbJE",
        "outputId": "835f42a8-5b1f-4de8-a01d-ba457535f713"
      },
      "execution_count": null,
      "outputs": [
        {
          "output_type": "execute_result",
          "data": {
            "text/plain": [
              "'\\nand: Returns True if both statements are true.\\n\\nor: Returns True if at least one statement is true.\\n\\nnot: Reverses the result (True becomes False, and vice versa).\\n'"
            ],
            "application/vnd.google.colaboratory.intrinsic+json": {
              "type": "string"
            }
          },
          "metadata": {},
          "execution_count": 11
        }
      ]
    },
    {
      "cell_type": "code",
      "source": [
        "# 9. What is type casting in Python? Type casting means converting one data type to another.\n",
        "\"\"\"\n",
        "Examples:\n",
        "\n",
        "int(\"5\") converts string \"5\" to integer 5.\n",
        "\n",
        "float(3) converts integer 3 to float 3.0.\n",
        "\"\"\"\n"
      ],
      "metadata": {
        "colab": {
          "base_uri": "https://localhost:8080/",
          "height": 36
        },
        "id": "hYoyPDnrXogp",
        "outputId": "c7064d87-f889-4f31-ed5d-4e99ea4d97a8"
      },
      "execution_count": null,
      "outputs": [
        {
          "output_type": "execute_result",
          "data": {
            "text/plain": [
              "'\\nExamples:\\n\\nint(\"5\") converts string \"5\" to integer 5.\\n\\nfloat(3) converts integer 3 to float 3.0.\\n'"
            ],
            "application/vnd.google.colaboratory.intrinsic+json": {
              "type": "string"
            }
          },
          "metadata": {},
          "execution_count": 12
        }
      ]
    },
    {
      "cell_type": "code",
      "source": [
        "# 10. What is the difference between implicit and explicit type casting?\n",
        "\"\"\"\n",
        "| Point             | Implicit           | Explicit            |\n",
        "| ----------------- | ------------------ | ------------------- |\n",
        "| Who does it?      | Compiler           | Programmer          |\n",
        "| Code writing      | No need            | You must write it   |\n",
        "| Risk of data loss | Low                | Possible            |\n",
        "| Conversion type   | Safe (small → big) | Risky (big → small) |\n",
        "\n",
        "\"\"\""
      ],
      "metadata": {
        "colab": {
          "base_uri": "https://localhost:8080/",
          "height": 72
        },
        "id": "mxYHw4ynYn52",
        "outputId": "fb1e4ce2-c15d-48de-b4d6-5e55e8634fa2"
      },
      "execution_count": null,
      "outputs": [
        {
          "output_type": "execute_result",
          "data": {
            "text/plain": [
              "'\\n| Point             | Implicit           | Explicit            |\\n| ----------------- | ------------------ | ------------------- |\\n| Who does it?      | Compiler           | Programmer          |\\n| Code writing      | No need            | You must write it   |\\n| Risk of data loss | Low                | Possible            |\\n| Conversion type   | Safe (small → big) | Risky (big → small) |\\n\\n'"
            ],
            "application/vnd.google.colaboratory.intrinsic+json": {
              "type": "string"
            }
          },
          "metadata": {},
          "execution_count": 13
        }
      ]
    },
    {
      "cell_type": "code",
      "source": [
        "# 11. What is the purpose of conditional statements in Python?\n",
        "\"\"\"\n",
        "Conditional statements are used to perform different actions based on different conditions. They help a program make decisions. For example,\n",
        " you can use them to:\n",
        "1.Check if a number is positive or negative.\n",
        "\n",
        "2.Give different outputs based on user input.\n",
        "\n",
        "3.Run a block of code only if a certain condition is true. In Python, we use if, elif, and else to write conditional statements.\n",
        "\"\"\""
      ],
      "metadata": {
        "colab": {
          "base_uri": "https://localhost:8080/",
          "height": 72
        },
        "id": "MzR4MLqwYyPw",
        "outputId": "70dc2408-cbd0-4a33-c0ec-2344866d7311"
      },
      "execution_count": null,
      "outputs": [
        {
          "output_type": "execute_result",
          "data": {
            "text/plain": [
              "'\\nConditional statements are used to perform different actions based on different conditions. They help a program make decisions. For example,\\n you can use them to:\\n1.Check if a number is positive or negative.\\n\\n2.Give different outputs based on user input.\\n\\n3.Run a block of code only if a certain condition is true. In Python, we use if, elif, and else to write conditional statements.\\n'"
            ],
            "application/vnd.google.colaboratory.intrinsic+json": {
              "type": "string"
            }
          },
          "metadata": {},
          "execution_count": 14
        }
      ]
    },
    {
      "cell_type": "code",
      "source": [
        "# 12.How does the elif statement work? elif stands for \"else if\". It is used to check multiple conditions one after another.\n",
        "\"\"\"\n",
        "First, Python checks the if condition.\n",
        "\n",
        "If that is false, it checks the elif condition.\n",
        "\n",
        "If none are true, it goes to the else block.\n",
        "Example:\n",
        "\n",
        "x = 10\n",
        "if x > 20:\n",
        "    print(\"Greater than 20\")\n",
        "elif x == 10:\n",
        "    print(\"Equal to 10\")\n",
        "else:\n",
        "    print(\"Other value\")\n",
        "\n",
        "This will print: Equal to 10.\n",
        "\"\"\""
      ],
      "metadata": {
        "colab": {
          "base_uri": "https://localhost:8080/",
          "height": 54
        },
        "id": "xdsl725lZley",
        "outputId": "dffcd036-eb80-4f03-8684-9d89c9d498d4"
      },
      "execution_count": null,
      "outputs": [
        {
          "output_type": "execute_result",
          "data": {
            "text/plain": [
              "'\\nFirst, Python checks the if condition.\\n\\nIf that is false, it checks the elif condition.\\n\\nIf none are true, it goes to the else block.\\nExample:\\n\\nx = 10\\nif x > 20:\\n    print(\"Greater than 20\")\\nelif x == 10:\\n    print(\"Equal to 10\")\\nelse:\\n    print(\"Other value\")\\n\\nThis will print: Equal to 10.\\n'"
            ],
            "application/vnd.google.colaboratory.intrinsic+json": {
              "type": "string"
            }
          },
          "metadata": {},
          "execution_count": 15
        }
      ]
    },
    {
      "cell_type": "code",
      "source": [
        "# 13. What is the difference between for and while loops?\n",
        "\"\"\"\n",
        "1.for loop is used when you know how many times you want to run the loop. It works with sequences like lists, tuples, or a range of numbers.\n",
        "Example:\n",
        "for i in range(5):\n",
        "    print(i)\n",
        "\n",
        "2.while loop is used when you do not know how many times you want to run the loop. It keeps running as long as the condition is true.\n",
        "Example:\n",
        "x = 0\n",
        "while x < 5:\n",
        "    print(x)\n",
        "    x += 1\n",
        "\"\"\""
      ],
      "metadata": {
        "colab": {
          "base_uri": "https://localhost:8080/",
          "height": 72
        },
        "id": "ZmfzQl6hZ6hY",
        "outputId": "4c205712-5d48-47e8-bbcd-1986530a43ab"
      },
      "execution_count": null,
      "outputs": [
        {
          "output_type": "execute_result",
          "data": {
            "text/plain": [
              "'\\n1.for loop is used when you know how many times you want to run the loop. It works with sequences like lists, tuples, or a range of numbers.\\nExample:\\nfor i in range(5):\\n    print(i)\\n\\n2.while loop is used when you do not know how many times you want to run the loop. It keeps running as long as the condition is true.\\nExample:\\nx = 0\\nwhile x < 5:\\n    print(x)\\n    x += 1\\n'"
            ],
            "application/vnd.google.colaboratory.intrinsic+json": {
              "type": "string"
            }
          },
          "metadata": {},
          "execution_count": 16
        }
      ]
    },
    {
      "cell_type": "code",
      "source": [
        "# 14.Describe a scenario where a while loop is more suitable than a for loop. A while loop is better when the number of times the loop should run is not known beforehand.\n",
        "\"\"\"\n",
        "Example scenario: Asking a user to input the correct password. You don't know how many times the user will try.\n",
        "\n",
        "password = \"\"\n",
        "while password != \"admin123\":\n",
        "    password = input(\"Enter password: \")\n",
        "print(\"Access granted\")\n",
        "\n",
        "Here, the loop continues until the correct password is entered. A for loop is not suitable here because we don’t know how many attempts the user will take.\n",
        "\"\"\""
      ],
      "metadata": {
        "colab": {
          "base_uri": "https://localhost:8080/",
          "height": 72
        },
        "id": "qPA1vYZ9aP7k",
        "outputId": "0ad02a93-278d-4336-cd97-9c6e247574e5"
      },
      "execution_count": null,
      "outputs": [
        {
          "output_type": "execute_result",
          "data": {
            "text/plain": [
              "'\\nExample scenario: Asking a user to input the correct password. You don\\'t know how many times the user will try.\\n\\npassword = \"\"\\nwhile password != \"admin123\":\\n    password = input(\"Enter password: \")\\nprint(\"Access granted\")\\n\\nHere, the loop continues until the correct password is entered. A for loop is not suitable here because we don’t know how many attempts the\\xa0user\\xa0will\\xa0take.\\n'"
            ],
            "application/vnd.google.colaboratory.intrinsic+json": {
              "type": "string"
            }
          },
          "metadata": {},
          "execution_count": 17
        }
      ]
    },
    {
      "cell_type": "markdown",
      "source": [
        "# Practical questions"
      ],
      "metadata": {
        "id": "H-y10YwpanPg"
      }
    },
    {
      "cell_type": "code",
      "source": [
        "# 1.Write a python program to print the hello world.\n",
        "print(\"Hello, World!\")"
      ],
      "metadata": {
        "colab": {
          "base_uri": "https://localhost:8080/"
        },
        "id": "q-VjR-X-b6LA",
        "outputId": "c33894a3-7964-47a6-afcc-9658a3f09ec8"
      },
      "execution_count": null,
      "outputs": [
        {
          "output_type": "stream",
          "name": "stdout",
          "text": [
            "Hello, World!\n"
          ]
        }
      ]
    },
    {
      "cell_type": "code",
      "source": [
        "# 2.Write a python program that displays your name and age.\n",
        "a=\"Komal Sanjay Ghadge\"\n",
        "b=\"21\"\n",
        "print(\"My name is:\",a);\n",
        "print(\"My age is:\",b);\n"
      ],
      "metadata": {
        "colab": {
          "base_uri": "https://localhost:8080/"
        },
        "id": "f9Mv35dbaxDM",
        "outputId": "b76086e4-5288-43ef-8291-823b5603691a"
      },
      "execution_count": null,
      "outputs": [
        {
          "output_type": "stream",
          "name": "stdout",
          "text": [
            "My name is: Komal Sanjay Ghadge\n",
            "My age is: 21\n"
          ]
        }
      ]
    },
    {
      "cell_type": "code",
      "source": [
        "# 3.Write a code to print all the pre-defined keywords in python using the keyword library.\n",
        "import keyword\n",
        "print(keyword.kwlist)\n"
      ],
      "metadata": {
        "colab": {
          "base_uri": "https://localhost:8080/"
        },
        "id": "--gcF05TcTc7",
        "outputId": "4c270c40-53c7-4f51-86fa-8ef9a6ca11f4"
      },
      "execution_count": null,
      "outputs": [
        {
          "output_type": "stream",
          "name": "stdout",
          "text": [
            "['False', 'None', 'True', 'and', 'as', 'assert', 'async', 'await', 'break', 'class', 'continue', 'def', 'del', 'elif', 'else', 'except', 'finally', 'for', 'from', 'global', 'if', 'import', 'in', 'is', 'lambda', 'nonlocal', 'not', 'or', 'pass', 'raise', 'return', 'try', 'while', 'with', 'yield']\n"
          ]
        }
      ]
    },
    {
      "cell_type": "code",
      "source": [
        "# 4.Write a program that checks if a given word is a python keyword.\n",
        "import keyword\n",
        "print(keyword.kwlist)\n",
        "word=input(\"Enter a word:\")\n",
        "if word in keyword.kwlist:\n",
        "    print(\"This word is in the keyword list\");\n",
        "else:\n",
        "    print(\"This word is  not in the keyword list\");\n"
      ],
      "metadata": {
        "colab": {
          "base_uri": "https://localhost:8080/"
        },
        "id": "uxGjO7OscxHx",
        "outputId": "6eff91b4-d50c-4d12-b442-190fcad05165"
      },
      "execution_count": null,
      "outputs": [
        {
          "output_type": "stream",
          "name": "stdout",
          "text": [
            "['False', 'None', 'True', 'and', 'as', 'assert', 'async', 'await', 'break', 'class', 'continue', 'def', 'del', 'elif', 'else', 'except', 'finally', 'for', 'from', 'global', 'if', 'import', 'in', 'is', 'lambda', 'nonlocal', 'not', 'or', 'pass', 'raise', 'return', 'try', 'while', 'with', 'yield']\n",
            "Enter a word:True\n",
            "This word is in the keyword list\n"
          ]
        }
      ]
    },
    {
      "cell_type": "code",
      "source": [
        "# 5.Create a list and tuple in Python, and demostrate how attempting to change an element works differently for each\n",
        "#demostrate of changing element in list\n",
        "list=[10,20,30,40,50,60]\n",
        "print(\"Original list\",list)\n",
        "list[1]=15\n",
        "print(\"Updated list:\",list);\n",
        "#demostrate of changing element in tuple\n",
        "tuple=(10,20,30,40,50,60)\n",
        "print(\"Original tuple:\",tuple)\n",
        "tuple[1]=15\n",
        "print(\"Updated tuple:\",tuple)\n",
        "#NOTE :tuple does not support the item assigmemt or changing element.(Tuple is immutable)\n"
      ],
      "metadata": {
        "colab": {
          "base_uri": "https://localhost:8080/",
          "height": 273
        },
        "id": "MH8L0sx1cxKd",
        "outputId": "89de52c8-90d0-48db-fe66-ccad29625ccc"
      },
      "execution_count": null,
      "outputs": [
        {
          "output_type": "stream",
          "name": "stdout",
          "text": [
            "Original list [10, 20, 30, 40, 50, 60]\n",
            "Updated list: [10, 15, 30, 40, 50, 60]\n",
            "Original tuple: (10, 20, 30, 40, 50, 60)\n"
          ]
        },
        {
          "output_type": "error",
          "ename": "TypeError",
          "evalue": "'tuple' object does not support item assignment",
          "traceback": [
            "\u001b[0;31m---------------------------------------------------------------------------\u001b[0m",
            "\u001b[0;31mTypeError\u001b[0m                                 Traceback (most recent call last)",
            "\u001b[0;32m<ipython-input-22-7990527012e1>\u001b[0m in \u001b[0;36m<cell line: 0>\u001b[0;34m()\u001b[0m\n\u001b[1;32m      8\u001b[0m \u001b[0mtuple\u001b[0m\u001b[0;34m=\u001b[0m\u001b[0;34m(\u001b[0m\u001b[0;36m10\u001b[0m\u001b[0;34m,\u001b[0m\u001b[0;36m20\u001b[0m\u001b[0;34m,\u001b[0m\u001b[0;36m30\u001b[0m\u001b[0;34m,\u001b[0m\u001b[0;36m40\u001b[0m\u001b[0;34m,\u001b[0m\u001b[0;36m50\u001b[0m\u001b[0;34m,\u001b[0m\u001b[0;36m60\u001b[0m\u001b[0;34m)\u001b[0m\u001b[0;34m\u001b[0m\u001b[0;34m\u001b[0m\u001b[0m\n\u001b[1;32m      9\u001b[0m \u001b[0mprint\u001b[0m\u001b[0;34m(\u001b[0m\u001b[0;34m\"Original tuple:\"\u001b[0m\u001b[0;34m,\u001b[0m\u001b[0mtuple\u001b[0m\u001b[0;34m)\u001b[0m\u001b[0;34m\u001b[0m\u001b[0;34m\u001b[0m\u001b[0m\n\u001b[0;32m---> 10\u001b[0;31m \u001b[0mtuple\u001b[0m\u001b[0;34m[\u001b[0m\u001b[0;36m1\u001b[0m\u001b[0;34m]\u001b[0m\u001b[0;34m=\u001b[0m\u001b[0;36m15\u001b[0m\u001b[0;34m\u001b[0m\u001b[0;34m\u001b[0m\u001b[0m\n\u001b[0m\u001b[1;32m     11\u001b[0m \u001b[0mprint\u001b[0m\u001b[0;34m(\u001b[0m\u001b[0;34m\"Updated tuple:\"\u001b[0m\u001b[0;34m,\u001b[0m\u001b[0mtuple\u001b[0m\u001b[0;34m)\u001b[0m\u001b[0;34m\u001b[0m\u001b[0;34m\u001b[0m\u001b[0m\n\u001b[1;32m     12\u001b[0m \u001b[0;31m#NOTE :tuple does not support the item assigmemt or changing element.(Tuple is immutable)\u001b[0m\u001b[0;34m\u001b[0m\u001b[0;34m\u001b[0m\u001b[0m\n",
            "\u001b[0;31mTypeError\u001b[0m: 'tuple' object does not support item assignment"
          ]
        }
      ]
    },
    {
      "cell_type": "code",
      "source": [
        "# 6.Write a function to demostrate the behaviour of mutable and immutable arguments.\n",
        "def change_values(num,my_list):\n",
        "    num=num+1\n",
        "#try to chnage number(immutable)\n",
        "    my_list.append(4)\n",
        "#chnage list(mutable)\n",
        "    print(\"Inside:\",num,my_list)\n",
        "a=5\n",
        "b=[1,2,3]\n",
        "change_values(a,b)\n",
        "print(\"Outside:\",a,b)\n"
      ],
      "metadata": {
        "colab": {
          "base_uri": "https://localhost:8080/"
        },
        "id": "lfJvOwfecxMe",
        "outputId": "329a08e3-bd9e-4c2d-e7e5-ff7e6bc6f861"
      },
      "execution_count": null,
      "outputs": [
        {
          "output_type": "stream",
          "name": "stdout",
          "text": [
            "Inside: 6 [1, 2, 3, 4]\n",
            "Outside: 5 [1, 2, 3, 4]\n"
          ]
        }
      ]
    },
    {
      "cell_type": "code",
      "source": [
        "\n",
        "\n",
        "# 7.Write a program that performs basic arithmetic operation on two user-input numbers.\n",
        "x=int(input(\"Enter a first number:\"))\n",
        "y=int(input(\"Enter a second number:\"))\n",
        "#Addition operator\n",
        "print(x+y)\n",
        "#Substraction operator\n",
        "print(x-y)\n",
        "#multiplication operator\n",
        "print(x*y)\n",
        "#division operator\n",
        "print(x/y)\n",
        "#floor operatior:return questiont\n",
        "print(x//y)\n",
        "#modulo operator:return remainder\n",
        "print(x%y)\n",
        "#power operator\n",
        "print(x**y)\n"
      ],
      "metadata": {
        "colab": {
          "base_uri": "https://localhost:8080/"
        },
        "id": "X1IMRs2ncxO6",
        "outputId": "42bdf63f-ac99-45ff-a2e0-bee8b2315548"
      },
      "execution_count": 1,
      "outputs": [
        {
          "output_type": "stream",
          "name": "stdout",
          "text": [
            "Enter a first number:11\n",
            "Enter a second number:2\n",
            "13\n",
            "9\n",
            "22\n",
            "5.5\n",
            "5\n",
            "1\n",
            "121\n"
          ]
        }
      ]
    },
    {
      "cell_type": "code",
      "source": [
        "# 8.Write a program to demostrate the use of logical operators.\n",
        "a=10\n",
        "b=5\n",
        "#And operator\n",
        "if a>5 and b>2:\n",
        "   print(\"AND:both condition are true\")\n",
        "#OR operator\n",
        "if a>15 or b<10:\n",
        "   print(\"OR:at least one condition is true\")\n",
        "#NOT operator\n",
        "if not(a<b):\n",
        "   print(\"Not: a is not less than b\")"
      ],
      "metadata": {
        "colab": {
          "base_uri": "https://localhost:8080/"
        },
        "id": "y3HRmOL0fJV1",
        "outputId": "2adf901c-65f1-4ebd-e810-4f12f337fcff"
      },
      "execution_count": 1,
      "outputs": [
        {
          "output_type": "stream",
          "name": "stdout",
          "text": [
            "AND:both condition are true\n",
            "OR:at least one condition is true\n",
            "Not: a is not less than b\n"
          ]
        }
      ]
    },
    {
      "cell_type": "code",
      "source": [
        "# 9.Write a Python program to convert user input from string to integer,float,and boolean types.\n",
        "data=input(\"Enter a values:\")\n",
        "values=data.split(\",\")\n",
        "print(\"Integer:\",int(values[0]))\n",
        "print(\"Float:\",float(values[1]))\n",
        "\n",
        "print(\"Boolean:\",values[2]==\"True\")"
      ],
      "metadata": {
        "colab": {
          "base_uri": "https://localhost:8080/"
        },
        "id": "kIeZdZwtcxSv",
        "outputId": "69529c5a-2d67-4f25-cf89-0c3efddbb790"
      },
      "execution_count": null,
      "outputs": [
        {
          "output_type": "stream",
          "name": "stdout",
          "text": [
            "Enter a values:11,3.4,True\n",
            "Integer: 11\n",
            "Float: 3.4\n",
            "Boolean: True\n"
          ]
        }
      ]
    },
    {
      "cell_type": "code",
      "source": [
        "# 10.Write code to demostrate type casting with list elements.\n",
        "#list of numbers as strings\n",
        "old_list=[\"2\",\"4\",\"5\"]\n",
        "#chnage each syrings to numbers(int)\n",
        "new_list=[]\n",
        "for item in old_list:\n",
        "    new_list.append(int(item))\n",
        "#print both numbers\n",
        "print(\"old_list:\",old_list)\n",
        "print(\"new_list:\",new_list)\n"
      ],
      "metadata": {
        "colab": {
          "base_uri": "https://localhost:8080/"
        },
        "id": "VIXHXOBgcxUt",
        "outputId": "338a2dda-f7f4-4d21-85f0-e0ed0c6c2140"
      },
      "execution_count": null,
      "outputs": [
        {
          "output_type": "stream",
          "name": "stdout",
          "text": [
            "old_list: ['2', '4', '5']\n",
            "new_list: [2, 4, 5]\n"
          ]
        }
      ]
    },
    {
      "cell_type": "code",
      "source": [
        "# 11.Write a program that checks if a number is positive,negative, or zero.\n",
        "number=int(input(\"Enter a number:\"))\n",
        "if number>0:\n",
        "    print(\"Number is positive\")\n",
        "elif number<0:\n",
        "    print(\"Number is negative\")\n",
        "else:\n",
        "    print(\"Number is zero\")"
      ],
      "metadata": {
        "colab": {
          "base_uri": "https://localhost:8080/"
        },
        "id": "J7PaQ31ccxXJ",
        "outputId": "8b278e7a-00cb-49e1-a66f-c451e1e6438d"
      },
      "execution_count": null,
      "outputs": [
        {
          "output_type": "stream",
          "name": "stdout",
          "text": [
            "Enter a number:-4\n",
            "Number is negative\n"
          ]
        }
      ]
    },
    {
      "cell_type": "code",
      "source": [
        "# 12.Write a for loop to print numbers from 1 to 10.\n",
        "nums=[1,2,3,4,5,6,7,8,9,10]\n",
        "for values in nums:\n",
        "    print(values)"
      ],
      "metadata": {
        "colab": {
          "base_uri": "https://localhost:8080/"
        },
        "id": "rc8ChTYKcxal",
        "outputId": "4d7255af-12be-44ba-a3d2-ccaaa9013ff9"
      },
      "execution_count": null,
      "outputs": [
        {
          "output_type": "stream",
          "name": "stdout",
          "text": [
            "1\n",
            "2\n",
            "3\n",
            "4\n",
            "5\n",
            "6\n",
            "7\n",
            "8\n",
            "9\n",
            "10\n"
          ]
        }
      ]
    },
    {
      "cell_type": "code",
      "source": [
        "# 13.Write a python program to find the sum of all even numbers between 1 and 50\n",
        "sum=0\n",
        "for i in range(1,51):\n",
        "    if i % 2==0:\n",
        "        sum+=i\n",
        "print(\"Sum of even numbers from 1 to 50 is:\",sum)"
      ],
      "metadata": {
        "colab": {
          "base_uri": "https://localhost:8080/"
        },
        "id": "dFISrlKCfW36",
        "outputId": "86a942d1-18e1-4b77-c719-0a69dae533e4"
      },
      "execution_count": null,
      "outputs": [
        {
          "output_type": "stream",
          "name": "stdout",
          "text": [
            "Sum of even numbers from 1 to 50 is: 650\n"
          ]
        }
      ]
    },
    {
      "cell_type": "code",
      "source": [
        "# 14.Write a program to reverse a string using a while loop.\n",
        "string ='hello'\n",
        "reversed_str=\"\"\n",
        "i=len(string)-1\n",
        "while i>=0:\n",
        "    reversed_str+=string[i]\n",
        "    i-=1\n",
        "    print(\"Reversed string:\",reversed_str)"
      ],
      "metadata": {
        "colab": {
          "base_uri": "https://localhost:8080/"
        },
        "id": "XBIXUl4HfW6h",
        "outputId": "0bb50d23-283b-42da-9743-25102ff06c08"
      },
      "execution_count": null,
      "outputs": [
        {
          "output_type": "stream",
          "name": "stdout",
          "text": [
            "Reversed string: o\n",
            "Reversed string: ol\n",
            "Reversed string: oll\n",
            "Reversed string: olle\n",
            "Reversed string: olleh\n"
          ]
        }
      ]
    },
    {
      "cell_type": "code",
      "source": [
        "# 15.Write a python program to calculate the factorial of a number provided by the user using a while loop.\n",
        "num=int(input(\"Enter a number:\"))\n",
        "fact=1;\n",
        "while num>0:\n",
        "    fact=fact*num\n",
        "    num=num-1\n",
        "print(\"Factorial numbers:\",fact)"
      ],
      "metadata": {
        "colab": {
          "base_uri": "https://localhost:8080/"
        },
        "id": "tLHwocQ8fW-A",
        "outputId": "315cf9d3-284c-4792-8676-5dbfebe9bb91"
      },
      "execution_count": null,
      "outputs": [
        {
          "output_type": "stream",
          "name": "stdout",
          "text": [
            "Enter a number:5\n",
            "Factorial numbers: 120\n"
          ]
        }
      ]
    }
  ]
}