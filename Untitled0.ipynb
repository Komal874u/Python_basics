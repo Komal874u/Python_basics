{
  "nbformat": 4,
  "nbformat_minor": 0,
  "metadata": {
    "colab": {
      "provenance": []
    },
    "kernelspec": {
      "name": "python3",
      "display_name": "Python 3"
    },
    "language_info": {
      "name": "python"
    }
  },
  "cells": [
    {
      "cell_type": "code",
      "execution_count": null,
      "metadata": {
        "id": "R-kAI6Vh-iUK"
      },
      "outputs": [],
      "source": []
    },
    {
      "cell_type": "code",
      "source": [
        "# 8.Write a program to demostrate the use of logical operators.\n",
        "a=10\n",
        "b=5\n",
        "#And operator\n",
        "if a>5 and b>2:\n",
        "   print(\"AND:both condition are true\")\n",
        "#OR operator\n",
        "if a>15 or b<10:\n",
        "   print(\"OR:at least one condition is true\")\n",
        "#NOT operator\n",
        "if not(a<b):\n",
        "   print(\"Not: a is not less than b\")"
      ],
      "metadata": {
        "colab": {
          "base_uri": "https://localhost:8080/"
        },
        "id": "q6KCYElkz-lM",
        "outputId": "ba8baad9-871e-4a99-b360-cc64e84fd6fc"
      },
      "execution_count": 1,
      "outputs": [
        {
          "output_type": "stream",
          "name": "stdout",
          "text": [
            "AND:both condition are true\n",
            "OR:at least one condition is true\n",
            "Not: a is not less than b\n"
          ]
        }
      ]
    }
  ]
}