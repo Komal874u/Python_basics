{
 "cells": [
  {
   "cell_type": "markdown",
   "id": "be5b6387-306c-4327-953e-8a63059c5bd5",
   "metadata": {},
   "source": [
    "Python Basics-Theory questions"
   ]
  },
  {
   "cell_type": "markdown",
   "id": "8965e90b-f8e8-4711-8194-20869c7c230a",
   "metadata": {},
   "source": [
    "# 1.What is Python,and why is it popular?\n",
    "ANS:\n",
    "\"\"\"\n",
    "Python is a high-level,easy-to-learn programming language.known for its simplicity and readability. it is widely used for web development,data science,\n",
    ".artificial intelligence,machine learning,automation, and more.it is popular because:\n",
    "1.It has simple, easy-to-understand syntax.\n",
    "2.It supports multiple programming paradigms (procedural, object-oriented, functional).\n",
    "3.It has a large community and rich libraries.\n",
    "\n",
    "Example:\n",
    "print(\"Hello, World!\")\n",
    "\"\"\""
   ]
  },
  {
   "cell_type": "markdown",
   "id": "b462e078-d925-46e5-bb8b-21d0baeb3f7f",
   "metadata": {},
   "source": [
    "# 2. What is an interpreter in Python?\n",
    "ANS:\n",
    "\"\"\"\n",
    "An interpreter is a program that reads and executes code line by line. In Python, the interpreter converts each line of code into machine language and\n",
    " uns it immediately. This allows easier debugging and faster testing of code.\n",
    " \"\"\""
   ]
  },
  {
   "cell_type": "markdown",
   "id": "9fb3f2db-da41-4906-bd24-8f1964616f8f",
   "metadata": {},
   "source": [
    "# 3. What are pre-defined keywords in Python?\n",
    "ANS:\n",
    "\"\"\"\n",
    "Keywords are reserved words in Python that have special meaning. They are used to define the syntax and structure of the language.\n",
    " Examples include:\n",
    " and,as,assert,break,class,continue,def,del,elif,else,except,finally,false,for,from,global,if,import,in.is.lambda,nonlocal,none,not,or,pass,raise,\n",
    " return,true,try,with,while,yield.\n",
    " \"\"\""
   ]
  },
  {
   "cell_type": "markdown",
   "id": "17e6f79d-6278-42bb-8c3a-44603f093a26",
   "metadata": {},
   "source": [
    "# 4. Can keywords be used as variable names?\n",
    "ANS:\n",
    "\"\"\"\n",
    "No, keywords cannot be used as variable names. Since they have special meaning in Python, using them as variable names will cause an error.\n",
    "\"\"\""
   ]
  },
  {
   "cell_type": "markdown",
   "id": "4e46b49d-c421-4e74-bf35-f71c355ddc16",
   "metadata": {},
   "source": [
    "# 5. What is mutability in Python? Mutability means whether an object can be changed after it is created.\n",
    "ANS:\n",
    "\"\"\"\n",
    "Mutable objects: can be changed (e.g., list, dictionary, set).\n",
    "\n",
    "Immutable objects: cannot be changed (e.g., tuple, string, int).\n",
    "\"\"\""
   ]
  },
  {
   "cell_type": "markdown",
   "id": "52b42856-3234-40be-a854-1fca33467a4c",
   "metadata": {},
   "source": [
    "# 6. Why are lists mutable, but tuples are immutable?\n",
    "ANS:\n",
    "\"\"\"\n",
    "Lists are designed to store data that might need to change during program execution, so they are mutable. Tuples are designed for fixed data and are\n",
    "immutable to ensure safety and faster access.\n",
    "\"\"\"\n"
   ]
  },
  {
   "cell_type": "markdown",
   "id": "0f0a4bd5-bce1-4cb1-afe4-0b2fcbfa55e4",
   "metadata": {},
   "source": [
    "# 7. What is the difference between \"==\" and \"is\" operators in Python?\n",
    "ANS:\n",
    "\"\"\"\n",
    "== checks if the values of two variables are equal.\n",
    "\n",
    "is checks if two variables point to the same memory location (i.e., are the same object).\n",
    "\"\"\"\n"
   ]
  },
  {
   "cell_type": "markdown",
   "id": "4c8e324e-8822-4ca6-a5e7-a4158a6b55c8",
   "metadata": {},
   "source": [
    "# 8.What are logical operators in Python? Logical operators are used to combine conditional statements?\n",
    "ANS:\n",
    "\"\"\"\n",
    "and: Returns True if both statements are true.\n",
    "\n",
    "or: Returns True if at least one statement is true.\n",
    "\n",
    "not: Reverses the result (True becomes False, and vice versa).\n",
    "\"\"\""
   ]
  },
  {
   "cell_type": "markdown",
   "id": "1df16ad1-319e-47d5-bbf2-c5f39b2b4018",
   "metadata": {},
   "source": [
    "# 9. What is type casting in Python? Type casting means converting one data type to another.\n",
    "ANS:\n",
    "\"\"\"\n",
    "Examples:\n",
    "\n",
    "int(\"5\") converts string \"5\" to integer 5.\n",
    "\n",
    "float(3) converts integer 3 to float 3.0.\n",
    "\"\"\"\n"
   ]
  },
  {
   "cell_type": "markdown",
   "id": "40f2b212-5b89-462a-b200-0c9e3039acb8",
   "metadata": {},
   "source": [
    "# 10. What is the difference between implicit and explicit type casting?\n",
    "ANS:\n",
    "\"\"\"\n",
    "| Point             | Implicit           | Explicit            |\n",
    "| ----------------- | ------------------ | ------------------- |\n",
    "| Who does it?      | Compiler           | Programmer          |\n",
    "| Code writing      | No need            | You must write it   |\n",
    "| Risk of data loss | Low                | Possible            |\n",
    "| Conversion type   | Safe (small → big) | Risky (big → small) |\n",
    "\n",
    "\"\"\""
   ]
  },
  {
   "cell_type": "markdown",
   "id": "4bf78f24-f6ed-4b95-a0a3-993caa2c1f52",
   "metadata": {},
   "source": [
    "# 11. What is the purpose of conditional statements in Python?\n",
    "ANS:\n",
    "\"\"\"\n",
    "Conditional statements are used to perform different actions based on different conditions. They help a program make decisions. For example,\n",
    " you can use them to:\n",
    "1.Check if a number is positive or negative.\n",
    "\n",
    "2.Give different outputs based on user input.\n",
    "\n",
    "3.Run a block of code only if a certain condition is true. In Python, we use if, elif, and else to write conditional statements.\n",
    "\"\"\""
   ]
  },
  {
   "cell_type": "markdown",
   "id": "ceb65c82-ba08-45fb-b581-4d68673fea80",
   "metadata": {},
   "source": [
    "# 12.How does the elif statement work? elif stands for \"else if\". It is used to check multiple conditions one after another.\n",
    "ANS:\n",
    "\"\"\"\n",
    "First, Python checks the if condition.\n",
    "\n",
    "If that is false, it checks the elif condition.\n",
    "\n",
    "If none are true, it goes to the else block.\n",
    "Example:\n",
    "\n",
    "x = 10\n",
    "if x > 20:\n",
    "    print(\"Greater than 20\")\n",
    "elif x == 10:\n",
    "    print(\"Equal to 10\")\n",
    "else:\n",
    "    print(\"Other value\")\n",
    "\n",
    "This will print: Equal to 10.\n",
    "\"\"\""
   ]
  },
  {
   "cell_type": "markdown",
   "id": "ca822b9c-9b6d-409f-846f-dc6ef89e522a",
   "metadata": {},
   "source": [
    "# 13. What is the difference between for and while loops?\n",
    "ANS:\n",
    "\"\"\"\n",
    "1.for loop is used when you know how many times you want to run the loop. It works with sequences like lists, tuples, or a range of numbers.\n",
    "Example:\n",
    "for i in range(5):\n",
    "    print(i)\n",
    "\n",
    "2.while loop is used when you do not know how many times you want to run the loop. It keeps running as long as the condition is true.\n",
    "Example:\n",
    "x = 0\n",
    "while x < 5:\n",
    "    print(x)\n",
    "    x += 1\n",
    "\"\"\""
   ]
  },
  {
   "cell_type": "markdown",
   "id": "61f4d711-2c3c-4b28-bc36-4122fe424509",
   "metadata": {},
   "source": [
    "# 14.Describe a scenario where a while loop is more suitable than a for loop. A while loop is better when the number of times the loop should run is not \n",
    "known beforehand.\n",
    "ANS:\n",
    "\"\"\"\n",
    "Example scenario: Asking a user to input the correct password. You don't know how many times the user will try.\n",
    "\n",
    "password = \"\"\n",
    "while password != \"admin123\":\n",
    "    password = input(\"Enter password: \")\n",
    "print(\"Access granted\")\n",
    "\n",
    "Here, the loop continues until the correct password is entered. A for loop is not suitable here because we don’t know how many attempts the user will take.\n",
    "\"\"\""
   ]
  },
  {
   "cell_type": "raw",
   "id": "5b278b1f-cac9-47fe-9964-4676a7c46592",
   "metadata": {},
   "source": [
    "Practical questions"
   ]
  },
  {
   "cell_type": "code",
   "execution_count": null,
   "id": "0f92d1ec-335f-493d-8b3f-20124ed3e45c",
   "metadata": {},
   "outputs": [],
   "source": [
    "# 1.Write a python program to print the hello world.\n",
    "print(\"Hello, World!\")"
   ]
  },
  {
   "cell_type": "code",
   "execution_count": 96,
   "id": "5c07da37-20b7-4eb7-865a-1e156727db7a",
   "metadata": {},
   "outputs": [
    {
     "name": "stdout",
     "output_type": "stream",
     "text": [
      "My name is: Komal Sanjay Ghadge\n",
      "My age is: 21\n"
     ]
    }
   ],
   "source": [
    "# 2.Write a python program that displays your name and age.\n",
    "a=\"Komal Sanjay Ghadge\"\n",
    "b=\"21\"\n",
    "print(\"My name is:\",a);\n",
    "print(\"My age is:\",b);\n"
   ]
  },
  {
   "cell_type": "code",
   "execution_count": 97,
   "id": "ccb8ceeb-93c4-4122-b9ba-7705436ca0fe",
   "metadata": {},
   "outputs": [
    {
     "name": "stdout",
     "output_type": "stream",
     "text": [
      "['False', 'None', 'True', 'and', 'as', 'assert', 'async', 'await', 'break', 'class', 'continue', 'def', 'del', 'elif', 'else', 'except', 'finally', 'for', 'from', 'global', 'if', 'import', 'in', 'is', 'lambda', 'nonlocal', 'not', 'or', 'pass', 'raise', 'return', 'try', 'while', 'with', 'yield']\n"
     ]
    }
   ],
   "source": [
    "# 3.Write a code to print all the pre-defined keywords in python using the keyword library.\n",
    "import keyword\n",
    "print(keyword.kwlist)\n"
   ]
  },
  {
   "cell_type": "code",
   "execution_count": 98,
   "id": "537c79ef-5e27-47d7-ab2a-9cf9cafa886f",
   "metadata": {},
   "outputs": [
    {
     "name": "stdout",
     "output_type": "stream",
     "text": [
      "['False', 'None', 'True', 'and', 'as', 'assert', 'async', 'await', 'break', 'class', 'continue', 'def', 'del', 'elif', 'else', 'except', 'finally', 'for', 'from', 'global', 'if', 'import', 'in', 'is', 'lambda', 'nonlocal', 'not', 'or', 'pass', 'raise', 'return', 'try', 'while', 'with', 'yield']\n"
     ]
    },
    {
     "name": "stdin",
     "output_type": "stream",
     "text": [
      "Enter a word: if\n"
     ]
    },
    {
     "name": "stdout",
     "output_type": "stream",
     "text": [
      "This word is in the keyword list\n"
     ]
    }
   ],
   "source": [
    "# 4.Write a program that checks if a given word is a python keyword.\n",
    "import keyword\n",
    "print(keyword.kwlist)\n",
    "word=input(\"Enter a word:\")\n",
    "if word in keyword.kwlist:\n",
    "    print(\"This word is in the keyword list\");\n",
    "else:\n",
    "    print(\"This word is  not in the keyword list\");\n"
   ]
  },
  {
   "cell_type": "code",
   "execution_count": 99,
   "id": "5af9a4fe-4917-4409-9d67-dfd74bd693c2",
   "metadata": {},
   "outputs": [
    {
     "name": "stdout",
     "output_type": "stream",
     "text": [
      "Original list [10, 20, 30, 40, 50, 60]\n",
      "Updated list: [10, 15, 30, 40, 50, 60]\n",
      "Original tuple: (10, 20, 30, 40, 50, 60)\n"
     ]
    },
    {
     "ename": "TypeError",
     "evalue": "'tuple' object does not support item assignment",
     "output_type": "error",
     "traceback": [
      "\u001b[1;31m---------------------------------------------------------------------------\u001b[0m",
      "\u001b[1;31mTypeError\u001b[0m                                 Traceback (most recent call last)",
      "Cell \u001b[1;32mIn[99], line 10\u001b[0m\n\u001b[0;32m      8\u001b[0m \u001b[38;5;28mtuple\u001b[39m\u001b[38;5;241m=\u001b[39m(\u001b[38;5;241m10\u001b[39m,\u001b[38;5;241m20\u001b[39m,\u001b[38;5;241m30\u001b[39m,\u001b[38;5;241m40\u001b[39m,\u001b[38;5;241m50\u001b[39m,\u001b[38;5;241m60\u001b[39m)\n\u001b[0;32m      9\u001b[0m \u001b[38;5;28mprint\u001b[39m(\u001b[38;5;124m\"\u001b[39m\u001b[38;5;124mOriginal tuple:\u001b[39m\u001b[38;5;124m\"\u001b[39m,\u001b[38;5;28mtuple\u001b[39m)\n\u001b[1;32m---> 10\u001b[0m \u001b[38;5;28mtuple\u001b[39m[\u001b[38;5;241m1\u001b[39m]\u001b[38;5;241m=\u001b[39m\u001b[38;5;241m15\u001b[39m\n\u001b[0;32m     11\u001b[0m \u001b[38;5;28mprint\u001b[39m(\u001b[38;5;124m\"\u001b[39m\u001b[38;5;124mUpdated tuple:\u001b[39m\u001b[38;5;124m\"\u001b[39m,\u001b[38;5;28mtuple\u001b[39m)\n",
      "\u001b[1;31mTypeError\u001b[0m: 'tuple' object does not support item assignment"
     ]
    }
   ],
   "source": [
    "# 5.Create a list and tuple in Python, and demostrate how attempting to change an element works differently for each\n",
    "#demostrate of changing element in list\n",
    "list=[10,20,30,40,50,60]\n",
    "print(\"Original list\",list)\n",
    "list[1]=15\n",
    "print(\"Updated list:\",list);\n",
    "#demostrate of changing element in tuple\n",
    "tuple=(10,20,30,40,50,60)\n",
    "print(\"Original tuple:\",tuple)\n",
    "tuple[1]=15\n",
    "print(\"Updated tuple:\",tuple)\n",
    "#NOTE :tuple does not support the item assigmemt or changing element.(Tuple is immutable)\n"
   ]
  },
  {
   "cell_type": "code",
   "execution_count": 108,
   "id": "ea50e300-dd5f-414f-a1e2-a964312f6ea5",
   "metadata": {},
   "outputs": [
    {
     "name": "stdout",
     "output_type": "stream",
     "text": [
      "Inside: 6 [1, 2, 3, 4]\n",
      "Outside: 5 [1, 2, 3, 4]\n"
     ]
    }
   ],
   "source": [
    "# 6.Write a function to demostrate the behaviour of mutable and immutable arguments.\n",
    "def change_values(num,my_list):\n",
    "    num=num+1\n",
    "#try to chnage number(immutable)\n",
    "    my_list.append(4)\n",
    "#chnage list(mutable)\n",
    "    print(\"Inside:\",num,my_list)\n",
    "a=5\n",
    "b=[1,2,3]\n",
    "change_values(a,b)\n",
    "print(\"Outside:\",a,b)\n"
   ]
  },
  {
   "cell_type": "code",
   "execution_count": 110,
   "id": "7b231389-127f-4a1b-8102-6f1de8df647d",
   "metadata": {},
   "outputs": [
    {
     "name": "stdin",
     "output_type": "stream",
     "text": [
      "Enter a first number: 11\n",
      "Enter a second number: 2\n"
     ]
    },
    {
     "name": "stdout",
     "output_type": "stream",
     "text": [
      "13\n",
      "9\n",
      "22\n",
      "5.5\n",
      "5\n",
      "1\n",
      "121\n"
     ]
    }
   ],
   "source": [
    "# 7.Write a program that performs basic arithmetic operation on two user-input numbers.\n",
    "x=int(input(\"Enter a first number:\"))\n",
    "y=int(input(\"Enter a second number:\"))\n",
    "#Addition operator\n",
    "print(x+y)\n",
    "#Substraction operator\n",
    "print(x-y)\n",
    "#multiplication operator\n",
    "print(x*y)\n",
    "#division operator\n",
    "print(x/y)\n",
    "#floor operatior:return questiont\n",
    "print(x//y)\n",
    "#modulo operator:return remainder\n",
    "print(x%y)\n",
    "#power operator\n",
    "print(x**y)\n"
   ]
  },
  {
   "cell_type": "code",
   "execution_count": 112,
   "id": "9a48290a-5853-46d2-8f04-0e892c6781fa",
   "metadata": {},
   "outputs": [
    {
     "name": "stdout",
     "output_type": "stream",
     "text": [
      "AND:both condition are true\n",
      "OR:at least one condition is true\n",
      "Not: a is not less than b\n"
     ]
    }
   ],
   "source": [
    "# 8.Write a program to demostrate the use of logical operators.\n",
    "a=10\n",
    "b=5\n",
    "#And operator\n",
    "if a>5 and b>2:\n",
    "   print(\"AND:both condition are true\")\n",
    "#OR operator\n",
    "if a>15 or b<10:\n",
    "   print(\"OR:at least one condition is true\")\n",
    "#NOT operator\n",
    "if not(a<b):\n",
    "   print(\"Not: a is not less than b\")"
   ]
  },
  {
   "cell_type": "code",
   "execution_count": 114,
   "id": "e2902d5c-6e21-4b37-9fc7-212aa22f88d0",
   "metadata": {},
   "outputs": [
    {
     "name": "stdin",
     "output_type": "stream",
     "text": [
      "Enter a values: 11,7.8,true\n"
     ]
    },
    {
     "name": "stdout",
     "output_type": "stream",
     "text": [
      "Integer: 11\n",
      "Float: 7.8\n",
      "Boolean: False\n"
     ]
    }
   ],
   "source": [
    "# 9.Write a Python program to convert user input from string to integer,float,and boolean types.\n",
    "data=input(\"Enter a values:\")\n",
    "values=data.split(\",\")\n",
    "print(\"Integer:\",int(values[0]))\n",
    "print(\"Float:\",float(values[1]))\n",
    "\n",
    "print(\"Boolean:\",values[2]==\"True\")"
   ]
  },
  {
   "cell_type": "code",
   "execution_count": 116,
   "id": "66a21485-e3b4-4472-a91e-aa520694b41e",
   "metadata": {},
   "outputs": [
    {
     "name": "stdout",
     "output_type": "stream",
     "text": [
      "old_list: ['2', '4', '5']\n",
      "new_list: [2, 4, 5]\n"
     ]
    }
   ],
   "source": [
    "# 10.Write code to demostrate type casting with list elements.\n",
    "#list of numbers as strings\n",
    "old_list=[\"2\",\"4\",\"5\"]\n",
    "#chnage each syrings to numbers(int)\n",
    "new_list=[]\n",
    "for item in old_list:\n",
    "    new_list.append(int(item))\n",
    "#print both numbers\n",
    "print(\"old_list:\",old_list)\n",
    "print(\"new_list:\",new_list)\n"
   ]
  },
  {
   "cell_type": "code",
   "execution_count": 118,
   "id": "eb708f5a-2e1f-4747-90a7-233a4c6d35e2",
   "metadata": {},
   "outputs": [
    {
     "name": "stdin",
     "output_type": "stream",
     "text": [
      "Enter a number: -9\n"
     ]
    },
    {
     "name": "stdout",
     "output_type": "stream",
     "text": [
      "Number is negative\n"
     ]
    }
   ],
   "source": [
    "# 11.Write a program that checks if a number is positive,negative, or zero.\n",
    "number=int(input(\"Enter a number:\"))\n",
    "if number>0:\n",
    "    print(\"Number is positive\")\n",
    "elif number<0:\n",
    "    print(\"Number is negative\")\n",
    "else:\n",
    "    print(\"Number is zero\")"
   ]
  },
  {
   "cell_type": "code",
   "execution_count": 120,
   "id": "23ff1697-df81-4c42-b585-401a995142c0",
   "metadata": {},
   "outputs": [
    {
     "name": "stdout",
     "output_type": "stream",
     "text": [
      "1\n",
      "2\n",
      "3\n",
      "4\n",
      "5\n",
      "6\n",
      "7\n",
      "8\n",
      "9\n",
      "10\n"
     ]
    }
   ],
   "source": [
    "# 12.Write a for loop to print numbers from 1 to 10.\n",
    "nums=[1,2,3,4,5,6,7,8,9,10]\n",
    "for values in nums:\n",
    "    print(values)"
   ]
  },
  {
   "cell_type": "code",
   "execution_count": 122,
   "id": "af5506c2-1cd0-42fe-a101-17f16a89cd7f",
   "metadata": {},
   "outputs": [
    {
     "name": "stdout",
     "output_type": "stream",
     "text": [
      "Sum of even numbers from 1 to 50 is: 650\n"
     ]
    }
   ],
   "source": [
    "# 13.Write a python program to find the sum of all even numbers between 1 and 50\n",
    "sum=0\n",
    "for i in range(1,51):\n",
    "    if i % 2==0:\n",
    "        sum+=i\n",
    "print(\"Sum of even numbers from 1 to 50 is:\",sum)"
   ]
  },
  {
   "cell_type": "code",
   "execution_count": 124,
   "id": "f829c15f-b0eb-456f-a3d4-5fc0fcb12b42",
   "metadata": {},
   "outputs": [
    {
     "name": "stdout",
     "output_type": "stream",
     "text": [
      "Reversed string: o\n",
      "Reversed string: ol\n",
      "Reversed string: oll\n",
      "Reversed string: olle\n",
      "Reversed string: olleh\n"
     ]
    }
   ],
   "source": [
    "# 14.Write a program to reverse a string using a while loop.\n",
    "string ='hello'\n",
    "reversed_str=\"\"\n",
    "i=len(string)-1\n",
    "while i>=0:\n",
    "    reversed_str+=string[i]\n",
    "    i-=1\n",
    "    print(\"Reversed string:\",reversed_str)"
   ]
  },
  {
   "cell_type": "code",
   "execution_count": 126,
   "id": "87c5872a-386e-423f-88d1-cdff83dfa204",
   "metadata": {},
   "outputs": [
    {
     "name": "stdin",
     "output_type": "stream",
     "text": [
      "Enter a number: 6\n"
     ]
    },
    {
     "name": "stdout",
     "output_type": "stream",
     "text": [
      "Factorial numbers: 720\n"
     ]
    }
   ],
   "source": [
    "# 15.Write a python program to calculate the factorial of a number provided by the user using a while loop.\n",
    "num=int(input(\"Enter a number:\"))\n",
    "fact=1;\n",
    "while num>0:\n",
    "    fact=fact*num\n",
    "    num=num-1\n",
    "print(\"Factorial numbers:\",fact)"
   ]
  },
  {
   "cell_type": "markdown",
   "id": "25864da6-1fee-4113-bc33-955a51b40fb5",
   "metadata": {},
   "source": []
  }
 ],
 "metadata": {
  "kernelspec": {
   "display_name": "Python [conda env:base] *",
   "language": "python",
   "name": "conda-base-py"
  },
  "language_info": {
   "codemirror_mode": {
    "name": "ipython",
    "version": 3
   },
   "file_extension": ".py",
   "mimetype": "text/x-python",
   "name": "python",
   "nbconvert_exporter": "python",
   "pygments_lexer": "ipython3",
   "version": "3.12.7"
  }
 },
 "nbformat": 4,
 "nbformat_minor": 5
}
