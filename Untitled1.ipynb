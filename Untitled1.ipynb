{
  "nbformat": 4,
  "nbformat_minor": 0,
  "metadata": {
    "colab": {
      "provenance": []
    },
    "kernelspec": {
      "name": "python3",
      "display_name": "Python 3"
    },
    "language_info": {
      "name": "python"
    }
  },
  "cells": [
    {
      "cell_type": "code",
      "execution_count": 1,
      "metadata": {
        "colab": {
          "base_uri": "https://localhost:8080/"
        },
        "id": "ajRlpyoHBDk4",
        "outputId": "f657bf3e-7671-441b-c0bd-ed80684101f7"
      },
      "outputs": [
        {
          "output_type": "stream",
          "name": "stdout",
          "text": [
            "AND:both condition are true\n",
            "OR:at least one condition is true\n",
            "Not: a is not less than b\n"
          ]
        }
      ],
      "source": [
        "# 8.Write a program to demostrate the use of logical operators.\n",
        "a=10\n",
        "b=5\n",
        "#And operator\n",
        "if a>5 and b>2:\n",
        "   print(\"AND:both condition are true\")\n",
        "#OR operator\n",
        "if a>15 or b<10:\n",
        "   print(\"OR:at least one condition is true\")\n",
        "#NOT operator\n",
        "if not(a<b):\n",
        "   print(\"Not: a is not less than b\")"
      ]
    }
  ]
}